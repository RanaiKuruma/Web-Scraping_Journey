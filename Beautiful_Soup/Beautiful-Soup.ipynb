{
 "cells": [
  {
   "cell_type": "code",
   "execution_count": 43,
   "metadata": {},
   "outputs": [],
   "source": [
    "import requests \n",
    "from bs4 import BeautifulSoup\n",
    "import re \n",
    "import pandas as pd "
   ]
  },
  {
   "cell_type": "markdown",
   "metadata": {},
   "source": [
    "### Getting the HTML"
   ]
  },
  {
   "cell_type": "markdown",
   "metadata": {},
   "source": [
    "- Requesting whether I can scrape the data or not."
   ]
  },
  {
   "cell_type": "code",
   "execution_count": 3,
   "metadata": {},
   "outputs": [
    {
     "data": {
      "text/plain": [
       "<Response [200]>"
      ]
     },
     "execution_count": 3,
     "metadata": {},
     "output_type": "execute_result"
    }
   ],
   "source": [
    "url = \"https://webscraper.io/test-sites/e-commerce/allinone/computers\"\n",
    "page = requests.get(url)\n",
    "page "
   ]
  },
  {
   "cell_type": "markdown",
   "metadata": {},
   "source": [
    "- The 'lxml' parser is grabbing the text in HTML format and putting all the text in a long string in Python.\n",
    "- Text obtained is better formated"
   ]
  },
  {
   "cell_type": "code",
   "execution_count": 4,
   "metadata": {},
   "outputs": [
    {
     "data": {
      "text/plain": [
       "<!DOCTYPE html>\n",
       "<html lang=\"en\">\n",
       "<head>\n",
       "<!-- Google Tag Manager -->\n",
       "<script>(function (w, d, s, l, i) {\n",
       "\t\tw[l] = w[l] || [];\n",
       "\t\tw[l].push({\n",
       "\t\t\t'gtm.start':\n",
       "\t\t\t\tnew Date().getTime(), event: 'gtm.js'\n",
       "\t\t});\n",
       "\t\tvar f = d.getElementsByTagName(s)[0],\n",
       "\t\t\tj = d.createElement(s), dl = l != 'dataLayer' ? '&l=' + l : '';\n",
       "\t\tj.async = true;\n",
       "\t\tj.src =\n",
       "\t\t\t'https://www.googletagmanager.com/gtm.js?id=' + i + dl;\n",
       "\t\tf.parentNode.insertBefore(j, f);\n",
       "\t})(window, document, 'script', 'dataLayer', 'GTM-NVFPDWB');</script>\n",
       "<!-- End Google Tag Manager -->\n",
       "<title>Web Scraper Test Sites</title>\n",
       "<meta charset=\"utf-8\"/>\n",
       "<meta content=\"IE=edge,chrome=1\" http-equiv=\"X-UA-Compatible\"/>\n",
       "<meta content=\"web scraping,Web Scraper,Chrome extension,Crawling,Cross platform scraper\" name=\"keywords\"/>\n",
       "<meta content=\"The most popular web scraping extension. Start scraping in minutes. Automate your tasks with our Cloud Scraper. No software to download, no coding needed.\" name=\"description\"/>\n",
       "<link href=\"/favicon.png\" rel=\"icon\" sizes=\"128x128\"/>\n",
       "<meta content=\"width=device-width, initial-scale=1.0\" name=\"viewport\"/>\n",
       "<link href=\"/css/app.css?id=9531159a070ee12c5d50eeeab0f0cff6\" rel=\"stylesheet\"/>\n",
       "<link href=\"/css/ws-icons.css?id=22f9b5952f726fdaf92064e8583a73ef\" rel=\"stylesheet\"/>\n",
       "<link href=\"https://webscraper.io/test-sites/e-commerce/allinone/computers\" rel=\"canonical\"/>\n",
       "<link href=\"/img/logo-icon.png\" rel=\"apple-touch-icon\"/>\n",
       "<script defer=\"\" src=\"/js/vendor.js?id=0cef5345ac8e9f21f8b49c568b1f79ea\"></script>\n",
       "<script defer=\"\" src=\"/js/app.js?id=e2bba374afc660bffc9999f160acf545\"></script>\n",
       "</head>\n",
       "<body>\n",
       "<!-- Google Tag Manager (noscript) -->\n",
       "<noscript>\n",
       "<iframe height=\"0\" src=\"https://www.googletagmanager.com/ns.html?id=GTM-NVFPDWB\" style=\"display:none;visibility:hidden\" width=\"0\"></iframe>\n",
       "</noscript>\n",
       "<!-- End Google Tag Manager (noscript) -->\n",
       "<header class=\"navbar navbar-fixed-top navbar-static\" role=\"banner\">\n",
       "<div class=\"container\">\n",
       "<div class=\"navbar-header\">\n",
       "<a data-target=\".side-collapse\" data-target-2=\".side-collapse-container\" data-toggle=\"collapse-side\">\n",
       "<button aria-controls=\"navbar\" aria-expanded=\"false\" class=\"navbar-toggle pull-right collapsed\" data-target=\"#navbar\" data-target-2=\".side-collapse-container\" data-target-3=\".side-collapse\" data-toggle=\"collapse\" type=\"button\">\n",
       "<span class=\"sr-only\">Toggle navigation</span>\n",
       "<span class=\"icon-bar top-bar\"></span>\n",
       "<span class=\"icon-bar middle-bar\"></span>\n",
       "<span class=\"icon-bar bottom-bar\"></span>\n",
       "</button>\n",
       "</a>\n",
       "<div class=\"navbar-brand\">\n",
       "<a href=\"/\"><img alt=\"Web Scraper\" src=\"/img/logo_white.svg\"/></a>\n",
       "</div>\n",
       "</div>\n",
       "<div class=\"side-collapse in\">\n",
       "<nav class=\"navbar-collapse collapse\" id=\"navbar\" role=\"navigation\">\n",
       "<ul class=\"nav navbar-nav navbar-right\">\n",
       "<li class=\"hidden\">\n",
       "<a href=\"#page-top\"></a>\n",
       "</li>\n",
       "<li>\n",
       "<a class=\"menuitm\" href=\"/\">\n",
       "<p>Web Scraper</p>\n",
       "<div class=\"crta\"></div>\n",
       "</a>\n",
       "</li>\n",
       "<li>\n",
       "<a class=\"menuitm\" href=\"/cloud-scraper\">\n",
       "<p>Cloud Scraper</p>\n",
       "<div class=\"crta\"></div>\n",
       "</a>\n",
       "</li>\n",
       "<li>\n",
       "<a class=\"menuitm\" href=\"/pricing\">\n",
       "<p>Pricing</p>\n",
       "<div class=\"crta\"></div>\n",
       "</a>\n",
       "</li>\n",
       "<li class=\"dropdown\">\n",
       "<a class=\"menuitm dropdown-toggle\" data-toggle=\"dropdown\" href=\"#section3\">\n",
       "<p>Learn</p>\n",
       "<div class=\"crta\"></div>\n",
       "</a>\n",
       "<ul class=\"dropdown-menu\">\n",
       "<li>\n",
       "<a href=\"/documentation\">Documentation</a>\n",
       "</li>\n",
       "<li>\n",
       "<a href=\"/tutorials\">Video Tutorials</a>\n",
       "</li>\n",
       "<li>\n",
       "<a href=\"/how-to-videos\">How to</a>\n",
       "</li>\n",
       "<li>\n",
       "<a href=\"/test-sites\">Test Sites</a>\n",
       "</li>\n",
       "<li>\n",
       "<a href=\"https://forum.webscraper.io/\" rel=\"noopener\" target=\"_blank\">Forum</a>\n",
       "</li>\n",
       "</ul>\n",
       "</li>\n",
       "<li>\n",
       "<a class=\"btn-menu1 install-extension\" href=\"https://chrome.google.com/webstore/detail/web-scraper/jnhgnonknehpejjnehehllkliplmbmhn?hl=en\" target=\"_blank\">Install</a>\n",
       "</li>\n",
       "<li>\n",
       "<a class=\"btn-menu2 wide\" href=\"https://cloud.webscraper.io/\">Cloud Login</a>\n",
       "</li>\n",
       "</ul>\n",
       "</nav>\n",
       "</div>\n",
       "</div>\n",
       "</header>\n",
       "<div class=\"wrapper\">\n",
       "<div class=\"formenu-here container-fluid\">\n",
       "</div>\n",
       "<div class=\"container-fluid blog-hero\">\n",
       "<div class=\"container\">\n",
       "<div class=\"row\">\n",
       "<div class=\"col-md-12\">\n",
       "<h1>Test Sites</h1>\n",
       "</div>\n",
       "</div>\n",
       "</div>\n",
       "</div>\n",
       "<div class=\"container test-site\">\n",
       "<div class=\"row\">\n",
       "<div class=\"col-md-3 sidebar\">\n",
       "<div class=\"navbar-default sidebar\" role=\"navigation\">\n",
       "<div class=\"sidebar-nav navbar-collapse\">\n",
       "<ul class=\"nav\" id=\"side-menu\">\n",
       "<li>\n",
       "<a href=\"/test-sites/e-commerce/allinone\">Home</a>\n",
       "</li>\n",
       "<li>\n",
       "<a class=\"category-link\" href=\"/test-sites/e-commerce/allinone/phones\">\n",
       "\t\t\t\t\tPhones\n",
       "\t\t\t\t\t<i class=\"ws-icon ws-icon-right\"></i>\n",
       "</a>\n",
       "</li>\n",
       "<li class=\"active\">\n",
       "<a class=\"category-link active\" href=\"/test-sites/e-commerce/allinone/computers\">\n",
       "\t\t\t\t\tComputers\n",
       "\t\t\t\t\t<i class=\"ws-icon ws-icon-down\"></i>\n",
       "</a>\n",
       "<ul class=\"nav nav-second-level collapse in\">\n",
       "<li>\n",
       "<a class=\"subcategory-link\" href=\"/test-sites/e-commerce/allinone/computers/tablets\">\n",
       "\t\t\t\t\t\t\tTablets\n",
       "\t\t\t\t\t\t</a>\n",
       "</li>\n",
       "<li>\n",
       "<a class=\"subcategory-link\" href=\"/test-sites/e-commerce/allinone/computers/laptops\">\n",
       "\t\t\t\t\t\t\tLaptops\n",
       "\t\t\t\t\t\t</a>\n",
       "</li>\n",
       "</ul>\n",
       "</li>\n",
       "</ul>\n",
       "</div>\n",
       "</div>\n",
       "</div>\n",
       "<div class=\"col-md-9\">\n",
       "<h1 class=\"page-header\">Computers category</h1>\n",
       "<h2>Top items being scraped right now</h2>\n",
       "<div class=\"row\">\n",
       "<div class=\"col-sm-4 col-lg-4 col-md-4\">\n",
       "<div class=\"thumbnail\">\n",
       "<img alt=\"item\" class=\"img-responsive\" src=\"/images/test-sites/e-commerce/items/cart2.png\"/>\n",
       "<div class=\"caption\">\n",
       "<h4 class=\"pull-right price\">$679.00</h4>\n",
       "<h4>\n",
       "<a class=\"title\" href=\"/test-sites/e-commerce/allinone/product/533\" title=\"Acer Aspire A515-51-5654\">Acer Aspire A515...</a>\n",
       "</h4>\n",
       "<p class=\"description\">Acer Aspire A515-51-5654, Black, 15.6\", FHD, Core i5-8250U, 8GB DDR4, 256GB SSD, Windows 10 Home, ENG</p>\n",
       "</div>\n",
       "<div class=\"ratings\">\n",
       "<p class=\"pull-right\">9 reviews</p>\n",
       "<p data-rating=\"2\">\n",
       "<span class=\"ws-icon ws-icon-star\"></span>\n",
       "<span class=\"ws-icon ws-icon-star\"></span>\n",
       "</p>\n",
       "</div>\n",
       "</div>\n",
       "</div>\n",
       "<div class=\"col-sm-4 col-lg-4 col-md-4\">\n",
       "<div class=\"thumbnail\">\n",
       "<img alt=\"item\" class=\"img-responsive\" src=\"/images/test-sites/e-commerce/items/cart2.png\"/>\n",
       "<div class=\"caption\">\n",
       "<h4 class=\"pull-right price\">$1259.00</h4>\n",
       "<h4>\n",
       "<a class=\"title\" href=\"/test-sites/e-commerce/allinone/product/615\" title=\"Asus ROG Strix GL753VE-GC096T\">Asus ROG Strix G...</a>\n",
       "</h4>\n",
       "<p class=\"description\">Asus ROG Strix GL753VE-GC096T, 17.3\" FHD, Core i7-7700HQ, 8GB, 1TB + 128GB SSD, GeForce GTX 1050 Ti 4GB, Windows 10 Home, Eng kbd</p>\n",
       "</div>\n",
       "<div class=\"ratings\">\n",
       "<p class=\"pull-right\">7 reviews</p>\n",
       "<p data-rating=\"4\">\n",
       "<span class=\"ws-icon ws-icon-star\"></span>\n",
       "<span class=\"ws-icon ws-icon-star\"></span>\n",
       "<span class=\"ws-icon ws-icon-star\"></span>\n",
       "<span class=\"ws-icon ws-icon-star\"></span>\n",
       "</p>\n",
       "</div>\n",
       "</div>\n",
       "</div>\n",
       "<div class=\"col-sm-4 col-lg-4 col-md-4\">\n",
       "<div class=\"thumbnail\">\n",
       "<img alt=\"item\" class=\"img-responsive\" src=\"/images/test-sites/e-commerce/items/cart2.png\"/>\n",
       "<div class=\"caption\">\n",
       "<h4 class=\"pull-right price\">$1123.87</h4>\n",
       "<h4>\n",
       "<a class=\"title\" href=\"/test-sites/e-commerce/allinone/product/588\" title=\"Acer Predator Helios 300 (PH317-51)\">Acer Predator He...</a>\n",
       "</h4>\n",
       "<p class=\"description\">Acer Predator Helios 300 (PH317-51), 17.3\" FHD IPS, Core i5-7300HQ, 8GB, 1TB + 128GB SSD, GeForce GTX 1050Ti 4GB, Windows 10 Home</p>\n",
       "</div>\n",
       "<div class=\"ratings\">\n",
       "<p class=\"pull-right\">1 reviews</p>\n",
       "<p data-rating=\"2\">\n",
       "<span class=\"ws-icon ws-icon-star\"></span>\n",
       "<span class=\"ws-icon ws-icon-star\"></span>\n",
       "</p>\n",
       "</div>\n",
       "</div>\n",
       "</div>\n",
       "</div>\n",
       "</div>\n",
       "</div>\n",
       "</div>\n",
       "<div class=\"clearfix\"></div>\n",
       "<div class=\"push\"></div>\n",
       "</div>\n",
       "<div class=\"container-fluid footer\" id=\"layout-footer\">\n",
       "<div class=\"container\">\n",
       "<div class=\"row\">\n",
       "<div class=\"col-md-3\">\n",
       "<ul>\n",
       "<li><p>Products</p></li>\n",
       "<li>\n",
       "<a href=\"/\">Web Scraper browser extension</a>\n",
       "</li>\n",
       "<li>\n",
       "<a href=\"/pricing\">Web Scraper Cloud</a>\n",
       "</li>\n",
       "</ul>\n",
       "</div>\n",
       "<div class=\"col-md-3\">\n",
       "<ul>\n",
       "<li><p>Company</p></li>\n",
       "<li>\n",
       "<a href=\"/about-us\">About us</a>\n",
       "</li>\n",
       "<li>\n",
       "<a href=\"/contact\">Contact</a>\n",
       "</li>\n",
       "<li>\n",
       "<a href=\"/privacy-policy\">Website Privacy Policy</a>\n",
       "</li>\n",
       "<li>\n",
       "<a href=\"/extension-privacy-policy\">Browser Extension Privacy Policy</a>\n",
       "</li>\n",
       "<li>\n",
       "<a href=\"https://webscraper.io/downloads/Web_Scraper_Media_Kit.zip\">Media kit</a>\n",
       "</li>\n",
       "<li><a href=\"/jobs\">Jobs</a></li>\n",
       "</ul>\n",
       "</div>\n",
       "<div class=\"col-md-3\">\n",
       "<ul>\n",
       "<li><p>Resources</p></li>\n",
       "<li><a href=\"/blog\">Blog</a></li>\n",
       "<li>\n",
       "<a href=\"/documentation\">Documentation</a>\n",
       "</li>\n",
       "<li>\n",
       "<a href=\"/tutorials\">Video Tutorials</a>\n",
       "</li>\n",
       "<li>\n",
       "<a href=\"/screenshots\">Screenshots</a>\n",
       "</li>\n",
       "<li>\n",
       "<a href=\"/test-sites\">Test Sites</a>\n",
       "</li>\n",
       "<li>\n",
       "<a href=\"https://forum.webscraper.io/\" rel=\"noopener\" target=\"_blank\">Forum</a>\n",
       "</li>\n",
       "<li>\n",
       "<a href=\"https://status.webscraper.io/\" rel=\"noopener\" target=\"_blank\">Status</a>\n",
       "</li>\n",
       "</ul>\n",
       "</div>\n",
       "<div class=\"col-md-3\">\n",
       "<ul>\n",
       "<li><p>CONTACT US</p></li>\n",
       "<li>\n",
       "<a href=\"mailto:info@webscraper.io\">info@webscraper.io</a>\n",
       "</li>\n",
       "<li>Ubelu 5-71,<br/> Adazi, Latvia, LV-2164</li>\n",
       "</ul>\n",
       "<ul class=\"smedia\">\n",
       "<li>\n",
       "<a href=\"https://www.facebook.com/webscraperio/\" rel=\"noopener\" target=\"_blank\">\n",
       "<i class=\"ws-icon ws-icon-facebook-f\"></i>\n",
       "</a>\n",
       "</li>\n",
       "<li>\n",
       "<a href=\"https://twitter.com/webscraperio\" rel=\"noopener\" target=\"_blank\">\n",
       "<i class=\"ws-icon ws-icon-twitter\"></i>\n",
       "</a>\n",
       "</li>\n",
       "</ul>\n",
       "</div>\n",
       "</div>\n",
       "<div class=\"row\">\n",
       "<div class=\"col-md-12\">\n",
       "<p class=\"copyright\">Copyright &amp;copy 2023\n",
       "\t\t\t\t\t<a href=\"#\">Web Scraper</a> | All rights\n",
       "\t\t\t\t\treserved</p>\n",
       "</div>\n",
       "</div>\n",
       "</div>\n",
       "</div>\n",
       "</body>\n",
       "</html>"
      ]
     },
     "execution_count": 4,
     "metadata": {},
     "output_type": "execute_result"
    }
   ],
   "source": [
    "soup =  BeautifulSoup(page.text, 'lxml')\n",
    "soup "
   ]
  },
  {
   "cell_type": "markdown",
   "metadata": {},
   "source": [
    "### Tags "
   ]
  },
  {
   "cell_type": "markdown",
   "metadata": {},
   "source": [
    "- used to start and end code \n"
   ]
  },
  {
   "cell_type": "code",
   "execution_count": 5,
   "metadata": {},
   "outputs": [
    {
     "data": {
      "text/plain": [
       "<header class=\"navbar navbar-fixed-top navbar-static\" role=\"banner\">\n",
       "<div class=\"container\">\n",
       "<div class=\"navbar-header\">\n",
       "<a data-target=\".side-collapse\" data-target-2=\".side-collapse-container\" data-toggle=\"collapse-side\">\n",
       "<button aria-controls=\"navbar\" aria-expanded=\"false\" class=\"navbar-toggle pull-right collapsed\" data-target=\"#navbar\" data-target-2=\".side-collapse-container\" data-target-3=\".side-collapse\" data-toggle=\"collapse\" type=\"button\">\n",
       "<span class=\"sr-only\">Toggle navigation</span>\n",
       "<span class=\"icon-bar top-bar\"></span>\n",
       "<span class=\"icon-bar middle-bar\"></span>\n",
       "<span class=\"icon-bar bottom-bar\"></span>\n",
       "</button>\n",
       "</a>\n",
       "<div class=\"navbar-brand\">\n",
       "<a href=\"/\"><img alt=\"Web Scraper\" src=\"/img/logo_white.svg\"/></a>\n",
       "</div>\n",
       "</div>\n",
       "<div class=\"side-collapse in\">\n",
       "<nav class=\"navbar-collapse collapse\" id=\"navbar\" role=\"navigation\">\n",
       "<ul class=\"nav navbar-nav navbar-right\">\n",
       "<li class=\"hidden\">\n",
       "<a href=\"#page-top\"></a>\n",
       "</li>\n",
       "<li>\n",
       "<a class=\"menuitm\" href=\"/\">\n",
       "<p>Web Scraper</p>\n",
       "<div class=\"crta\"></div>\n",
       "</a>\n",
       "</li>\n",
       "<li>\n",
       "<a class=\"menuitm\" href=\"/cloud-scraper\">\n",
       "<p>Cloud Scraper</p>\n",
       "<div class=\"crta\"></div>\n",
       "</a>\n",
       "</li>\n",
       "<li>\n",
       "<a class=\"menuitm\" href=\"/pricing\">\n",
       "<p>Pricing</p>\n",
       "<div class=\"crta\"></div>\n",
       "</a>\n",
       "</li>\n",
       "<li class=\"dropdown\">\n",
       "<a class=\"menuitm dropdown-toggle\" data-toggle=\"dropdown\" href=\"#section3\">\n",
       "<p>Learn</p>\n",
       "<div class=\"crta\"></div>\n",
       "</a>\n",
       "<ul class=\"dropdown-menu\">\n",
       "<li>\n",
       "<a href=\"/documentation\">Documentation</a>\n",
       "</li>\n",
       "<li>\n",
       "<a href=\"/tutorials\">Video Tutorials</a>\n",
       "</li>\n",
       "<li>\n",
       "<a href=\"/how-to-videos\">How to</a>\n",
       "</li>\n",
       "<li>\n",
       "<a href=\"/test-sites\">Test Sites</a>\n",
       "</li>\n",
       "<li>\n",
       "<a href=\"https://forum.webscraper.io/\" rel=\"noopener\" target=\"_blank\">Forum</a>\n",
       "</li>\n",
       "</ul>\n",
       "</li>\n",
       "<li>\n",
       "<a class=\"btn-menu1 install-extension\" href=\"https://chrome.google.com/webstore/detail/web-scraper/jnhgnonknehpejjnehehllkliplmbmhn?hl=en\" target=\"_blank\">Install</a>\n",
       "</li>\n",
       "<li>\n",
       "<a class=\"btn-menu2 wide\" href=\"https://cloud.webscraper.io/\">Cloud Login</a>\n",
       "</li>\n",
       "</ul>\n",
       "</nav>\n",
       "</div>\n",
       "</div>\n",
       "</header>"
      ]
     },
     "execution_count": 5,
     "metadata": {},
     "output_type": "execute_result"
    }
   ],
   "source": [
    "soup.header"
   ]
  },
  {
   "cell_type": "code",
   "execution_count": 6,
   "metadata": {},
   "outputs": [
    {
     "data": {
      "text/plain": [
       "<div class=\"container\">\n",
       "<div class=\"navbar-header\">\n",
       "<a data-target=\".side-collapse\" data-target-2=\".side-collapse-container\" data-toggle=\"collapse-side\">\n",
       "<button aria-controls=\"navbar\" aria-expanded=\"false\" class=\"navbar-toggle pull-right collapsed\" data-target=\"#navbar\" data-target-2=\".side-collapse-container\" data-target-3=\".side-collapse\" data-toggle=\"collapse\" type=\"button\">\n",
       "<span class=\"sr-only\">Toggle navigation</span>\n",
       "<span class=\"icon-bar top-bar\"></span>\n",
       "<span class=\"icon-bar middle-bar\"></span>\n",
       "<span class=\"icon-bar bottom-bar\"></span>\n",
       "</button>\n",
       "</a>\n",
       "<div class=\"navbar-brand\">\n",
       "<a href=\"/\"><img alt=\"Web Scraper\" src=\"/img/logo_white.svg\"/></a>\n",
       "</div>\n",
       "</div>\n",
       "<div class=\"side-collapse in\">\n",
       "<nav class=\"navbar-collapse collapse\" id=\"navbar\" role=\"navigation\">\n",
       "<ul class=\"nav navbar-nav navbar-right\">\n",
       "<li class=\"hidden\">\n",
       "<a href=\"#page-top\"></a>\n",
       "</li>\n",
       "<li>\n",
       "<a class=\"menuitm\" href=\"/\">\n",
       "<p>Web Scraper</p>\n",
       "<div class=\"crta\"></div>\n",
       "</a>\n",
       "</li>\n",
       "<li>\n",
       "<a class=\"menuitm\" href=\"/cloud-scraper\">\n",
       "<p>Cloud Scraper</p>\n",
       "<div class=\"crta\"></div>\n",
       "</a>\n",
       "</li>\n",
       "<li>\n",
       "<a class=\"menuitm\" href=\"/pricing\">\n",
       "<p>Pricing</p>\n",
       "<div class=\"crta\"></div>\n",
       "</a>\n",
       "</li>\n",
       "<li class=\"dropdown\">\n",
       "<a class=\"menuitm dropdown-toggle\" data-toggle=\"dropdown\" href=\"#section3\">\n",
       "<p>Learn</p>\n",
       "<div class=\"crta\"></div>\n",
       "</a>\n",
       "<ul class=\"dropdown-menu\">\n",
       "<li>\n",
       "<a href=\"/documentation\">Documentation</a>\n",
       "</li>\n",
       "<li>\n",
       "<a href=\"/tutorials\">Video Tutorials</a>\n",
       "</li>\n",
       "<li>\n",
       "<a href=\"/how-to-videos\">How to</a>\n",
       "</li>\n",
       "<li>\n",
       "<a href=\"/test-sites\">Test Sites</a>\n",
       "</li>\n",
       "<li>\n",
       "<a href=\"https://forum.webscraper.io/\" rel=\"noopener\" target=\"_blank\">Forum</a>\n",
       "</li>\n",
       "</ul>\n",
       "</li>\n",
       "<li>\n",
       "<a class=\"btn-menu1 install-extension\" href=\"https://chrome.google.com/webstore/detail/web-scraper/jnhgnonknehpejjnehehllkliplmbmhn?hl=en\" target=\"_blank\">Install</a>\n",
       "</li>\n",
       "<li>\n",
       "<a class=\"btn-menu2 wide\" href=\"https://cloud.webscraper.io/\">Cloud Login</a>\n",
       "</li>\n",
       "</ul>\n",
       "</nav>\n",
       "</div>\n",
       "</div>"
      ]
     },
     "execution_count": 6,
     "metadata": {},
     "output_type": "execute_result"
    }
   ],
   "source": [
    "soup.div "
   ]
  },
  {
   "cell_type": "markdown",
   "metadata": {},
   "source": [
    "### Navigable Strings "
   ]
  },
  {
   "cell_type": "markdown",
   "metadata": {},
   "source": [
    "- Used to getting a part of the string "
   ]
  },
  {
   "cell_type": "code",
   "execution_count": 7,
   "metadata": {},
   "outputs": [
    {
     "data": {
      "text/plain": [
       "<p>Web Scraper</p>"
      ]
     },
     "execution_count": 7,
     "metadata": {},
     "output_type": "execute_result"
    }
   ],
   "source": [
    "tag = soup.header.p \n",
    "tag "
   ]
  },
  {
   "cell_type": "markdown",
   "metadata": {},
   "source": [
    "- Converting it to a string "
   ]
  },
  {
   "cell_type": "code",
   "execution_count": 8,
   "metadata": {},
   "outputs": [
    {
     "data": {
      "text/plain": [
       "'Web Scraper'"
      ]
     },
     "execution_count": 8,
     "metadata": {},
     "output_type": "execute_result"
    }
   ],
   "source": [
    "tag.string \n",
    "# or \n",
    "soup.header.p.string "
   ]
  },
  {
   "cell_type": "markdown",
   "metadata": {},
   "source": [
    "### Attributes"
   ]
  },
  {
   "cell_type": "code",
   "execution_count": 9,
   "metadata": {},
   "outputs": [],
   "source": [
    "# tag = soup.header.a \n",
    "tag = soup.a "
   ]
  },
  {
   "cell_type": "code",
   "execution_count": 10,
   "metadata": {},
   "outputs": [
    {
     "data": {
      "text/plain": [
       "{'data-toggle': 'collapse-side',\n",
       " 'data-target': '.side-collapse',\n",
       " 'data-target-2': '.side-collapse-container'}"
      ]
     },
     "execution_count": 10,
     "metadata": {},
     "output_type": "execute_result"
    }
   ],
   "source": [
    "tag.attrs "
   ]
  },
  {
   "cell_type": "code",
   "execution_count": 11,
   "metadata": {},
   "outputs": [
    {
     "data": {
      "text/plain": [
       "'collapse-side'"
      ]
     },
     "execution_count": 11,
     "metadata": {},
     "output_type": "execute_result"
    }
   ],
   "source": [
    "tag['data-toggle']"
   ]
  },
  {
   "cell_type": "code",
   "execution_count": 12,
   "metadata": {},
   "outputs": [
    {
     "data": {
      "text/plain": [
       "{'data-toggle': 'collapse-side',\n",
       " 'data-target': '.side-collapse',\n",
       " 'data-target-2': '.side-collapse-container',\n",
       " 'attribute_new': 'This is a new attribute'}"
      ]
     },
     "execution_count": 12,
     "metadata": {},
     "output_type": "execute_result"
    }
   ],
   "source": [
    "tag['attribute_new'] = 'This is a new attribute'\n",
    "tag.attrs "
   ]
  },
  {
   "cell_type": "code",
   "execution_count": 13,
   "metadata": {},
   "outputs": [
    {
     "data": {
      "text/plain": [
       "<a attribute_new=\"This is a new attribute\" data-target=\".side-collapse\" data-target-2=\".side-collapse-container\" data-toggle=\"collapse-side\">\n",
       "<button aria-controls=\"navbar\" aria-expanded=\"false\" class=\"navbar-toggle pull-right collapsed\" data-target=\"#navbar\" data-target-2=\".side-collapse-container\" data-target-3=\".side-collapse\" data-toggle=\"collapse\" type=\"button\">\n",
       "<span class=\"sr-only\">Toggle navigation</span>\n",
       "<span class=\"icon-bar top-bar\"></span>\n",
       "<span class=\"icon-bar middle-bar\"></span>\n",
       "<span class=\"icon-bar bottom-bar\"></span>\n",
       "</button>\n",
       "</a>"
      ]
     },
     "execution_count": 13,
     "metadata": {},
     "output_type": "execute_result"
    }
   ],
   "source": [
    "tag "
   ]
  },
  {
   "cell_type": "markdown",
   "metadata": {},
   "source": [
    "### Searching and Extracting from the HTML"
   ]
  },
  {
   "cell_type": "markdown",
   "metadata": {},
   "source": [
    "- find()"
   ]
  },
  {
   "cell_type": "markdown",
   "metadata": {},
   "source": [
    "- Main function to search through the HTML. \n",
    "- Also acts as a filter.\n",
    "- find() only returns the first occurence."
   ]
  },
  {
   "cell_type": "code",
   "execution_count": 14,
   "metadata": {},
   "outputs": [
    {
     "data": {
      "text/plain": [
       "<Response [200]>"
      ]
     },
     "execution_count": 14,
     "metadata": {},
     "output_type": "execute_result"
    }
   ],
   "source": [
    "url  = \"https://webscraper.io/test-sites/e-commerce/allinone/phones/touch\"\n",
    "page = requests.get(url)\n",
    "page "
   ]
  },
  {
   "cell_type": "code",
   "execution_count": 15,
   "metadata": {},
   "outputs": [],
   "source": [
    "soup = BeautifulSoup(page.text, 'lxml')\n",
    "# soup \n"
   ]
  },
  {
   "cell_type": "code",
   "execution_count": 16,
   "metadata": {},
   "outputs": [
    {
     "data": {
      "text/plain": [
       "<header class=\"navbar navbar-fixed-top navbar-static\" role=\"banner\">\n",
       "<div class=\"container\">\n",
       "<div class=\"navbar-header\">\n",
       "<a data-target=\".side-collapse\" data-target-2=\".side-collapse-container\" data-toggle=\"collapse-side\">\n",
       "<button aria-controls=\"navbar\" aria-expanded=\"false\" class=\"navbar-toggle pull-right collapsed\" data-target=\"#navbar\" data-target-2=\".side-collapse-container\" data-target-3=\".side-collapse\" data-toggle=\"collapse\" type=\"button\">\n",
       "<span class=\"sr-only\">Toggle navigation</span>\n",
       "<span class=\"icon-bar top-bar\"></span>\n",
       "<span class=\"icon-bar middle-bar\"></span>\n",
       "<span class=\"icon-bar bottom-bar\"></span>\n",
       "</button>\n",
       "</a>\n",
       "<div class=\"navbar-brand\">\n",
       "<a href=\"/\"><img alt=\"Web Scraper\" src=\"/img/logo_white.svg\"/></a>\n",
       "</div>\n",
       "</div>\n",
       "<div class=\"side-collapse in\">\n",
       "<nav class=\"navbar-collapse collapse\" id=\"navbar\" role=\"navigation\">\n",
       "<ul class=\"nav navbar-nav navbar-right\">\n",
       "<li class=\"hidden\">\n",
       "<a href=\"#page-top\"></a>\n",
       "</li>\n",
       "<li>\n",
       "<a class=\"menuitm\" href=\"/\">\n",
       "<p>Web Scraper</p>\n",
       "<div class=\"crta\"></div>\n",
       "</a>\n",
       "</li>\n",
       "<li>\n",
       "<a class=\"menuitm\" href=\"/cloud-scraper\">\n",
       "<p>Cloud Scraper</p>\n",
       "<div class=\"crta\"></div>\n",
       "</a>\n",
       "</li>\n",
       "<li>\n",
       "<a class=\"menuitm\" href=\"/pricing\">\n",
       "<p>Pricing</p>\n",
       "<div class=\"crta\"></div>\n",
       "</a>\n",
       "</li>\n",
       "<li class=\"dropdown\">\n",
       "<a class=\"menuitm dropdown-toggle\" data-toggle=\"dropdown\" href=\"#section3\">\n",
       "<p>Learn</p>\n",
       "<div class=\"crta\"></div>\n",
       "</a>\n",
       "<ul class=\"dropdown-menu\">\n",
       "<li>\n",
       "<a href=\"/documentation\">Documentation</a>\n",
       "</li>\n",
       "<li>\n",
       "<a href=\"/tutorials\">Video Tutorials</a>\n",
       "</li>\n",
       "<li>\n",
       "<a href=\"/how-to-videos\">How to</a>\n",
       "</li>\n",
       "<li>\n",
       "<a href=\"/test-sites\">Test Sites</a>\n",
       "</li>\n",
       "<li>\n",
       "<a href=\"https://forum.webscraper.io/\" rel=\"noopener\" target=\"_blank\">Forum</a>\n",
       "</li>\n",
       "</ul>\n",
       "</li>\n",
       "<li>\n",
       "<a class=\"btn-menu1 install-extension\" href=\"https://chrome.google.com/webstore/detail/web-scraper/jnhgnonknehpejjnehehllkliplmbmhn?hl=en\" target=\"_blank\">Install</a>\n",
       "</li>\n",
       "<li>\n",
       "<a class=\"btn-menu2 wide\" href=\"https://cloud.webscraper.io/\">Cloud Login</a>\n",
       "</li>\n",
       "</ul>\n",
       "</nav>\n",
       "</div>\n",
       "</div>\n",
       "</header>"
      ]
     },
     "execution_count": 16,
     "metadata": {},
     "output_type": "execute_result"
    }
   ],
   "source": [
    "soup.find('header')"
   ]
  },
  {
   "cell_type": "code",
   "execution_count": 17,
   "metadata": {},
   "outputs": [
    {
     "data": {
      "text/plain": [
       "<div class=\"container test-site\">\n",
       "<div class=\"row\">\n",
       "<div class=\"col-md-3 sidebar\">\n",
       "<div class=\"navbar-default sidebar\" role=\"navigation\">\n",
       "<div class=\"sidebar-nav navbar-collapse\">\n",
       "<ul class=\"nav\" id=\"side-menu\">\n",
       "<li>\n",
       "<a href=\"/test-sites/e-commerce/allinone\">Home</a>\n",
       "</li>\n",
       "<li class=\"active\">\n",
       "<a class=\"category-link\" href=\"/test-sites/e-commerce/allinone/phones\">\n",
       "\t\t\t\t\tPhones\n",
       "\t\t\t\t\t<i class=\"ws-icon ws-icon-right\"></i>\n",
       "</a>\n",
       "<ul class=\"nav nav-second-level collapse in\">\n",
       "<li>\n",
       "<a class=\"subcategory-link active\" href=\"/test-sites/e-commerce/allinone/phones/touch\">\n",
       "\t\t\t\t\t\t\tTouch\n",
       "\t\t\t\t\t\t</a>\n",
       "</li>\n",
       "</ul>\n",
       "</li>\n",
       "<li>\n",
       "<a class=\"category-link\" href=\"/test-sites/e-commerce/allinone/computers\">\n",
       "\t\t\t\t\tComputers\n",
       "\t\t\t\t\t<i class=\"ws-icon ws-icon-right\"></i>\n",
       "</a>\n",
       "</li>\n",
       "</ul>\n",
       "</div>\n",
       "</div>\n",
       "</div>\n",
       "<div class=\"col-md-9\">\n",
       "<h1 class=\"page-header\">Phones / Touch</h1>\n",
       "<div class=\"row\">\n",
       "<div class=\"col-sm-4 col-lg-4 col-md-4\">\n",
       "<div class=\"thumbnail\">\n",
       "<img alt=\"item\" class=\"img-responsive\" src=\"/images/test-sites/e-commerce/items/cart2.png\"/>\n",
       "<div class=\"caption\">\n",
       "<h4 class=\"pull-right price\">$24.99</h4>\n",
       "<h4>\n",
       "<a class=\"title\" href=\"/test-sites/e-commerce/allinone/product/486\" title=\"Nokia 123\">Nokia 123</a>\n",
       "</h4>\n",
       "<p class=\"description\">7 day battery</p>\n",
       "</div>\n",
       "<div class=\"ratings\">\n",
       "<p class=\"pull-right\">11 reviews</p>\n",
       "<p data-rating=\"3\">\n",
       "<span class=\"ws-icon ws-icon-star\"></span>\n",
       "<span class=\"ws-icon ws-icon-star\"></span>\n",
       "<span class=\"ws-icon ws-icon-star\"></span>\n",
       "</p>\n",
       "</div>\n",
       "</div>\n",
       "</div>\n",
       "<div class=\"col-sm-4 col-lg-4 col-md-4\">\n",
       "<div class=\"thumbnail\">\n",
       "<img alt=\"item\" class=\"img-responsive\" src=\"/images/test-sites/e-commerce/items/cart2.png\"/>\n",
       "<div class=\"caption\">\n",
       "<h4 class=\"pull-right price\">$57.99</h4>\n",
       "<h4>\n",
       "<a class=\"title\" href=\"/test-sites/e-commerce/allinone/product/487\" title=\"LG Optimus\">LG Optimus</a>\n",
       "</h4>\n",
       "<p class=\"description\">3.2\" screen</p>\n",
       "</div>\n",
       "<div class=\"ratings\">\n",
       "<p class=\"pull-right\">11 reviews</p>\n",
       "<p data-rating=\"3\">\n",
       "<span class=\"ws-icon ws-icon-star\"></span>\n",
       "<span class=\"ws-icon ws-icon-star\"></span>\n",
       "<span class=\"ws-icon ws-icon-star\"></span>\n",
       "</p>\n",
       "</div>\n",
       "</div>\n",
       "</div>\n",
       "<div class=\"col-sm-4 col-lg-4 col-md-4\">\n",
       "<div class=\"thumbnail\">\n",
       "<img alt=\"item\" class=\"img-responsive\" src=\"/images/test-sites/e-commerce/items/cart2.png\"/>\n",
       "<div class=\"caption\">\n",
       "<h4 class=\"pull-right price\">$93.99</h4>\n",
       "<h4>\n",
       "<a class=\"title\" href=\"/test-sites/e-commerce/allinone/product/488\" title=\"Samsung Galaxy\">Samsung Galaxy</a>\n",
       "</h4>\n",
       "<p class=\"description\">5 mpx. Android 5.0</p>\n",
       "</div>\n",
       "<div class=\"ratings\">\n",
       "<p class=\"pull-right\">3 reviews</p>\n",
       "<p data-rating=\"3\">\n",
       "<span class=\"ws-icon ws-icon-star\"></span>\n",
       "<span class=\"ws-icon ws-icon-star\"></span>\n",
       "<span class=\"ws-icon ws-icon-star\"></span>\n",
       "</p>\n",
       "</div>\n",
       "</div>\n",
       "</div>\n",
       "<div class=\"col-sm-4 col-lg-4 col-md-4\">\n",
       "<div class=\"thumbnail\">\n",
       "<img alt=\"item\" class=\"img-responsive\" src=\"/images/test-sites/e-commerce/items/cart2.png\"/>\n",
       "<div class=\"caption\">\n",
       "<h4 class=\"pull-right price\">$109.99</h4>\n",
       "<h4>\n",
       "<a class=\"title\" href=\"/test-sites/e-commerce/allinone/product/489\" title=\"Nokia X\">Nokia X</a>\n",
       "</h4>\n",
       "<p class=\"description\">Andoid, Jolla dualboot</p>\n",
       "</div>\n",
       "<div class=\"ratings\">\n",
       "<p class=\"pull-right\">4 reviews</p>\n",
       "<p data-rating=\"4\">\n",
       "<span class=\"ws-icon ws-icon-star\"></span>\n",
       "<span class=\"ws-icon ws-icon-star\"></span>\n",
       "<span class=\"ws-icon ws-icon-star\"></span>\n",
       "<span class=\"ws-icon ws-icon-star\"></span>\n",
       "</p>\n",
       "</div>\n",
       "</div>\n",
       "</div>\n",
       "<div class=\"col-sm-4 col-lg-4 col-md-4\">\n",
       "<div class=\"thumbnail\">\n",
       "<img alt=\"item\" class=\"img-responsive\" src=\"/images/test-sites/e-commerce/items/cart2.png\"/>\n",
       "<div class=\"caption\">\n",
       "<h4 class=\"pull-right price\">$118.99</h4>\n",
       "<h4>\n",
       "<a class=\"title\" href=\"/test-sites/e-commerce/allinone/product/490\" title=\"Sony Xperia\">Sony Xperia</a>\n",
       "</h4>\n",
       "<p class=\"description\">GPS, waterproof</p>\n",
       "</div>\n",
       "<div class=\"ratings\">\n",
       "<p class=\"pull-right\">6 reviews</p>\n",
       "<p data-rating=\"1\">\n",
       "<span class=\"ws-icon ws-icon-star\"></span>\n",
       "</p>\n",
       "</div>\n",
       "</div>\n",
       "</div>\n",
       "<div class=\"col-sm-4 col-lg-4 col-md-4\">\n",
       "<div class=\"thumbnail\">\n",
       "<img alt=\"item\" class=\"img-responsive\" src=\"/images/test-sites/e-commerce/items/cart2.png\"/>\n",
       "<div class=\"caption\">\n",
       "<h4 class=\"pull-right price\">$499.99</h4>\n",
       "<h4>\n",
       "<a class=\"title\" href=\"/test-sites/e-commerce/allinone/product/491\" title=\"Ubuntu Edge\">Ubuntu Edge</a>\n",
       "</h4>\n",
       "<p class=\"description\">Sapphire glass</p>\n",
       "</div>\n",
       "<div class=\"ratings\">\n",
       "<p class=\"pull-right\">2 reviews</p>\n",
       "<p data-rating=\"1\">\n",
       "<span class=\"ws-icon ws-icon-star\"></span>\n",
       "</p>\n",
       "</div>\n",
       "</div>\n",
       "</div>\n",
       "<div class=\"col-sm-4 col-lg-4 col-md-4\">\n",
       "<div class=\"thumbnail\">\n",
       "<img alt=\"item\" class=\"img-responsive\" src=\"/images/test-sites/e-commerce/items/cart2.png\"/>\n",
       "<div class=\"caption\">\n",
       "<h4 class=\"pull-right price\">$899.99</h4>\n",
       "<h4>\n",
       "<a class=\"title\" href=\"/test-sites/e-commerce/allinone/product/492\" title=\"Iphone\">Iphone</a>\n",
       "</h4>\n",
       "<p class=\"description\">White</p>\n",
       "</div>\n",
       "<div class=\"ratings\">\n",
       "<p class=\"pull-right\">10 reviews</p>\n",
       "<p data-rating=\"1\">\n",
       "<span class=\"ws-icon ws-icon-star\"></span>\n",
       "</p>\n",
       "</div>\n",
       "</div>\n",
       "</div>\n",
       "<div class=\"col-sm-4 col-lg-4 col-md-4\">\n",
       "<div class=\"thumbnail\">\n",
       "<img alt=\"item\" class=\"img-responsive\" src=\"/images/test-sites/e-commerce/items/cart2.png\"/>\n",
       "<div class=\"caption\">\n",
       "<h4 class=\"pull-right price\">$899.99</h4>\n",
       "<h4>\n",
       "<a class=\"title\" href=\"/test-sites/e-commerce/allinone/product/493\" title=\"Iphone\">Iphone</a>\n",
       "</h4>\n",
       "<p class=\"description\">Silver</p>\n",
       "</div>\n",
       "<div class=\"ratings\">\n",
       "<p class=\"pull-right\">8 reviews</p>\n",
       "<p data-rating=\"2\">\n",
       "<span class=\"ws-icon ws-icon-star\"></span>\n",
       "<span class=\"ws-icon ws-icon-star\"></span>\n",
       "</p>\n",
       "</div>\n",
       "</div>\n",
       "</div>\n",
       "<div class=\"col-sm-4 col-lg-4 col-md-4\">\n",
       "<div class=\"thumbnail\">\n",
       "<img alt=\"item\" class=\"img-responsive\" src=\"/images/test-sites/e-commerce/items/cart2.png\"/>\n",
       "<div class=\"caption\">\n",
       "<h4 class=\"pull-right price\">$899.99</h4>\n",
       "<h4>\n",
       "<a class=\"title\" href=\"/test-sites/e-commerce/allinone/product/494\" title=\"Iphone\">Iphone</a>\n",
       "</h4>\n",
       "<p class=\"description\">Black</p>\n",
       "</div>\n",
       "<div class=\"ratings\">\n",
       "<p class=\"pull-right\">1 reviews</p>\n",
       "<p data-rating=\"1\">\n",
       "<span class=\"ws-icon ws-icon-star\"></span>\n",
       "</p>\n",
       "</div>\n",
       "</div>\n",
       "</div>\n",
       "</div>\n",
       "</div>\n",
       "</div>\n",
       "</div>"
      ]
     },
     "execution_count": 17,
     "metadata": {},
     "output_type": "execute_result"
    }
   ],
   "source": [
    "soup.find('div', {'class': 'container test-site'})"
   ]
  },
  {
   "cell_type": "code",
   "execution_count": 18,
   "metadata": {},
   "outputs": [],
   "source": [
    "# Getting the price \n",
    "soup.find('h4', {'class': 'pull-right price'}).text\n",
    "# or \n",
    "soup.find('h4', class_ = 'pull-right-price')\n"
   ]
  },
  {
   "cell_type": "markdown",
   "metadata": {},
   "source": [
    "### find_all()"
   ]
  },
  {
   "cell_type": "markdown",
   "metadata": {},
   "source": [
    "- Return all the occurences in the form of an array "
   ]
  },
  {
   "cell_type": "code",
   "execution_count": 19,
   "metadata": {},
   "outputs": [
    {
     "data": {
      "text/plain": [
       "[<h4 class=\"pull-right price\">$899.99</h4>,\n",
       " <h4 class=\"pull-right price\">$899.99</h4>,\n",
       " <h4 class=\"pull-right price\">$899.99</h4>]"
      ]
     },
     "execution_count": 19,
     "metadata": {},
     "output_type": "execute_result"
    }
   ],
   "source": [
    "soup.find_all('h4', {'class': 'pull-right price'})\n",
    "# len(soup.find_all('h4', {'class': 'pull-right price'}))\n",
    "soup.find_all('h4', {'class': 'pull-right price'})[6:]"
   ]
  },
  {
   "cell_type": "code",
   "execution_count": 20,
   "metadata": {},
   "outputs": [
    {
     "data": {
      "text/plain": [
       "[<a class=\"title\" href=\"/test-sites/e-commerce/allinone/product/486\" title=\"Nokia 123\">Nokia 123</a>,\n",
       " <a class=\"title\" href=\"/test-sites/e-commerce/allinone/product/487\" title=\"LG Optimus\">LG Optimus</a>,\n",
       " <a class=\"title\" href=\"/test-sites/e-commerce/allinone/product/488\" title=\"Samsung Galaxy\">Samsung Galaxy</a>,\n",
       " <a class=\"title\" href=\"/test-sites/e-commerce/allinone/product/489\" title=\"Nokia X\">Nokia X</a>,\n",
       " <a class=\"title\" href=\"/test-sites/e-commerce/allinone/product/490\" title=\"Sony Xperia\">Sony Xperia</a>,\n",
       " <a class=\"title\" href=\"/test-sites/e-commerce/allinone/product/491\" title=\"Ubuntu Edge\">Ubuntu Edge</a>,\n",
       " <a class=\"title\" href=\"/test-sites/e-commerce/allinone/product/492\" title=\"Iphone\">Iphone</a>,\n",
       " <a class=\"title\" href=\"/test-sites/e-commerce/allinone/product/493\" title=\"Iphone\">Iphone</a>,\n",
       " <a class=\"title\" href=\"/test-sites/e-commerce/allinone/product/494\" title=\"Iphone\">Iphone</a>]"
      ]
     },
     "execution_count": 20,
     "metadata": {},
     "output_type": "execute_result"
    }
   ],
   "source": [
    "soup.find_all('a', class_ = 'title')"
   ]
  },
  {
   "cell_type": "code",
   "execution_count": 21,
   "metadata": {},
   "outputs": [
    {
     "data": {
      "text/plain": [
       "<p class=\"pull-right\">11 reviews</p>"
      ]
     },
     "execution_count": 21,
     "metadata": {},
     "output_type": "execute_result"
    }
   ],
   "source": [
    "soup.find_all('p', {'class': 'pull-right'})\n",
    "soup.find_all('p', {'class': 'pull-right'})[0]"
   ]
  },
  {
   "cell_type": "code",
   "execution_count": 22,
   "metadata": {},
   "outputs": [
    {
     "data": {
      "text/plain": [
       "[<p>Web Scraper</p>,\n",
       " <p>Cloud Scraper</p>,\n",
       " <p>Pricing</p>,\n",
       " <p>Learn</p>,\n",
       " <h4 class=\"pull-right price\">$24.99</h4>,\n",
       " <h4>\n",
       " <a class=\"title\" href=\"/test-sites/e-commerce/allinone/product/486\" title=\"Nokia 123\">Nokia 123</a>\n",
       " </h4>,\n",
       " <p class=\"description\">7 day battery</p>,\n",
       " <p class=\"pull-right\">11 reviews</p>,\n",
       " <p data-rating=\"3\">\n",
       " <span class=\"ws-icon ws-icon-star\"></span>\n",
       " <span class=\"ws-icon ws-icon-star\"></span>\n",
       " <span class=\"ws-icon ws-icon-star\"></span>\n",
       " </p>,\n",
       " <h4 class=\"pull-right price\">$57.99</h4>,\n",
       " <h4>\n",
       " <a class=\"title\" href=\"/test-sites/e-commerce/allinone/product/487\" title=\"LG Optimus\">LG Optimus</a>\n",
       " </h4>,\n",
       " <p class=\"description\">3.2\" screen</p>,\n",
       " <p class=\"pull-right\">11 reviews</p>,\n",
       " <p data-rating=\"3\">\n",
       " <span class=\"ws-icon ws-icon-star\"></span>\n",
       " <span class=\"ws-icon ws-icon-star\"></span>\n",
       " <span class=\"ws-icon ws-icon-star\"></span>\n",
       " </p>,\n",
       " <h4 class=\"pull-right price\">$93.99</h4>,\n",
       " <h4>\n",
       " <a class=\"title\" href=\"/test-sites/e-commerce/allinone/product/488\" title=\"Samsung Galaxy\">Samsung Galaxy</a>\n",
       " </h4>,\n",
       " <p class=\"description\">5 mpx. Android 5.0</p>,\n",
       " <p class=\"pull-right\">3 reviews</p>,\n",
       " <p data-rating=\"3\">\n",
       " <span class=\"ws-icon ws-icon-star\"></span>\n",
       " <span class=\"ws-icon ws-icon-star\"></span>\n",
       " <span class=\"ws-icon ws-icon-star\"></span>\n",
       " </p>,\n",
       " <h4 class=\"pull-right price\">$109.99</h4>,\n",
       " <h4>\n",
       " <a class=\"title\" href=\"/test-sites/e-commerce/allinone/product/489\" title=\"Nokia X\">Nokia X</a>\n",
       " </h4>,\n",
       " <p class=\"description\">Andoid, Jolla dualboot</p>,\n",
       " <p class=\"pull-right\">4 reviews</p>,\n",
       " <p data-rating=\"4\">\n",
       " <span class=\"ws-icon ws-icon-star\"></span>\n",
       " <span class=\"ws-icon ws-icon-star\"></span>\n",
       " <span class=\"ws-icon ws-icon-star\"></span>\n",
       " <span class=\"ws-icon ws-icon-star\"></span>\n",
       " </p>,\n",
       " <h4 class=\"pull-right price\">$118.99</h4>,\n",
       " <h4>\n",
       " <a class=\"title\" href=\"/test-sites/e-commerce/allinone/product/490\" title=\"Sony Xperia\">Sony Xperia</a>\n",
       " </h4>,\n",
       " <p class=\"description\">GPS, waterproof</p>,\n",
       " <p class=\"pull-right\">6 reviews</p>,\n",
       " <p data-rating=\"1\">\n",
       " <span class=\"ws-icon ws-icon-star\"></span>\n",
       " </p>,\n",
       " <h4 class=\"pull-right price\">$499.99</h4>,\n",
       " <h4>\n",
       " <a class=\"title\" href=\"/test-sites/e-commerce/allinone/product/491\" title=\"Ubuntu Edge\">Ubuntu Edge</a>\n",
       " </h4>,\n",
       " <p class=\"description\">Sapphire glass</p>,\n",
       " <p class=\"pull-right\">2 reviews</p>,\n",
       " <p data-rating=\"1\">\n",
       " <span class=\"ws-icon ws-icon-star\"></span>\n",
       " </p>,\n",
       " <h4 class=\"pull-right price\">$899.99</h4>,\n",
       " <h4>\n",
       " <a class=\"title\" href=\"/test-sites/e-commerce/allinone/product/492\" title=\"Iphone\">Iphone</a>\n",
       " </h4>,\n",
       " <p class=\"description\">White</p>,\n",
       " <p class=\"pull-right\">10 reviews</p>,\n",
       " <p data-rating=\"1\">\n",
       " <span class=\"ws-icon ws-icon-star\"></span>\n",
       " </p>,\n",
       " <h4 class=\"pull-right price\">$899.99</h4>,\n",
       " <h4>\n",
       " <a class=\"title\" href=\"/test-sites/e-commerce/allinone/product/493\" title=\"Iphone\">Iphone</a>\n",
       " </h4>,\n",
       " <p class=\"description\">Silver</p>,\n",
       " <p class=\"pull-right\">8 reviews</p>,\n",
       " <p data-rating=\"2\">\n",
       " <span class=\"ws-icon ws-icon-star\"></span>\n",
       " <span class=\"ws-icon ws-icon-star\"></span>\n",
       " </p>,\n",
       " <h4 class=\"pull-right price\">$899.99</h4>,\n",
       " <h4>\n",
       " <a class=\"title\" href=\"/test-sites/e-commerce/allinone/product/494\" title=\"Iphone\">Iphone</a>\n",
       " </h4>,\n",
       " <p class=\"description\">Black</p>,\n",
       " <p class=\"pull-right\">1 reviews</p>,\n",
       " <p data-rating=\"1\">\n",
       " <span class=\"ws-icon ws-icon-star\"></span>\n",
       " </p>,\n",
       " <p>Products</p>,\n",
       " <p>Company</p>,\n",
       " <p>Resources</p>,\n",
       " <p>CONTACT US</p>,\n",
       " <p class=\"copyright\">Copyright &amp;copy 2023\n",
       " \t\t\t\t\t<a href=\"#\">Web Scraper</a> | All rights\n",
       " \t\t\t\t\treserved</p>]"
      ]
     },
     "execution_count": 22,
     "metadata": {},
     "output_type": "execute_result"
    }
   ],
   "source": [
    "soup.find_all(['h4', 'p'])"
   ]
  },
  {
   "cell_type": "markdown",
   "metadata": {},
   "source": [
    "- Check whether id is an attribute or not. \n",
    "- Returns HTML whose attributes are made up of id "
   ]
  },
  {
   "cell_type": "code",
   "execution_count": 23,
   "metadata": {},
   "outputs": [
    {
     "data": {
      "text/plain": [
       "[<nav class=\"navbar-collapse collapse\" id=\"navbar\" role=\"navigation\">\n",
       " <ul class=\"nav navbar-nav navbar-right\">\n",
       " <li class=\"hidden\">\n",
       " <a href=\"#page-top\"></a>\n",
       " </li>\n",
       " <li>\n",
       " <a class=\"menuitm\" href=\"/\">\n",
       " <p>Web Scraper</p>\n",
       " <div class=\"crta\"></div>\n",
       " </a>\n",
       " </li>\n",
       " <li>\n",
       " <a class=\"menuitm\" href=\"/cloud-scraper\">\n",
       " <p>Cloud Scraper</p>\n",
       " <div class=\"crta\"></div>\n",
       " </a>\n",
       " </li>\n",
       " <li>\n",
       " <a class=\"menuitm\" href=\"/pricing\">\n",
       " <p>Pricing</p>\n",
       " <div class=\"crta\"></div>\n",
       " </a>\n",
       " </li>\n",
       " <li class=\"dropdown\">\n",
       " <a class=\"menuitm dropdown-toggle\" data-toggle=\"dropdown\" href=\"#section3\">\n",
       " <p>Learn</p>\n",
       " <div class=\"crta\"></div>\n",
       " </a>\n",
       " <ul class=\"dropdown-menu\">\n",
       " <li>\n",
       " <a href=\"/documentation\">Documentation</a>\n",
       " </li>\n",
       " <li>\n",
       " <a href=\"/tutorials\">Video Tutorials</a>\n",
       " </li>\n",
       " <li>\n",
       " <a href=\"/how-to-videos\">How to</a>\n",
       " </li>\n",
       " <li>\n",
       " <a href=\"/test-sites\">Test Sites</a>\n",
       " </li>\n",
       " <li>\n",
       " <a href=\"https://forum.webscraper.io/\" rel=\"noopener\" target=\"_blank\">Forum</a>\n",
       " </li>\n",
       " </ul>\n",
       " </li>\n",
       " <li>\n",
       " <a class=\"btn-menu1 install-extension\" href=\"https://chrome.google.com/webstore/detail/web-scraper/jnhgnonknehpejjnehehllkliplmbmhn?hl=en\" target=\"_blank\">Install</a>\n",
       " </li>\n",
       " <li>\n",
       " <a class=\"btn-menu2 wide\" href=\"https://cloud.webscraper.io/\">Cloud Login</a>\n",
       " </li>\n",
       " </ul>\n",
       " </nav>,\n",
       " <ul class=\"nav\" id=\"side-menu\">\n",
       " <li>\n",
       " <a href=\"/test-sites/e-commerce/allinone\">Home</a>\n",
       " </li>\n",
       " <li class=\"active\">\n",
       " <a class=\"category-link\" href=\"/test-sites/e-commerce/allinone/phones\">\n",
       " \t\t\t\t\tPhones\n",
       " \t\t\t\t\t<i class=\"ws-icon ws-icon-right\"></i>\n",
       " </a>\n",
       " <ul class=\"nav nav-second-level collapse in\">\n",
       " <li>\n",
       " <a class=\"subcategory-link active\" href=\"/test-sites/e-commerce/allinone/phones/touch\">\n",
       " \t\t\t\t\t\t\tTouch\n",
       " \t\t\t\t\t\t</a>\n",
       " </li>\n",
       " </ul>\n",
       " </li>\n",
       " <li>\n",
       " <a class=\"category-link\" href=\"/test-sites/e-commerce/allinone/computers\">\n",
       " \t\t\t\t\tComputers\n",
       " \t\t\t\t\t<i class=\"ws-icon ws-icon-right\"></i>\n",
       " </a>\n",
       " </li>\n",
       " </ul>,\n",
       " <div class=\"container-fluid footer\" id=\"layout-footer\">\n",
       " <div class=\"container\">\n",
       " <div class=\"row\">\n",
       " <div class=\"col-md-3\">\n",
       " <ul>\n",
       " <li><p>Products</p></li>\n",
       " <li>\n",
       " <a href=\"/\">Web Scraper browser extension</a>\n",
       " </li>\n",
       " <li>\n",
       " <a href=\"/pricing\">Web Scraper Cloud</a>\n",
       " </li>\n",
       " </ul>\n",
       " </div>\n",
       " <div class=\"col-md-3\">\n",
       " <ul>\n",
       " <li><p>Company</p></li>\n",
       " <li>\n",
       " <a href=\"/about-us\">About us</a>\n",
       " </li>\n",
       " <li>\n",
       " <a href=\"/contact\">Contact</a>\n",
       " </li>\n",
       " <li>\n",
       " <a href=\"/privacy-policy\">Website Privacy Policy</a>\n",
       " </li>\n",
       " <li>\n",
       " <a href=\"/extension-privacy-policy\">Browser Extension Privacy Policy</a>\n",
       " </li>\n",
       " <li>\n",
       " <a href=\"https://webscraper.io/downloads/Web_Scraper_Media_Kit.zip\">Media kit</a>\n",
       " </li>\n",
       " <li><a href=\"/jobs\">Jobs</a></li>\n",
       " </ul>\n",
       " </div>\n",
       " <div class=\"col-md-3\">\n",
       " <ul>\n",
       " <li><p>Resources</p></li>\n",
       " <li><a href=\"/blog\">Blog</a></li>\n",
       " <li>\n",
       " <a href=\"/documentation\">Documentation</a>\n",
       " </li>\n",
       " <li>\n",
       " <a href=\"/tutorials\">Video Tutorials</a>\n",
       " </li>\n",
       " <li>\n",
       " <a href=\"/screenshots\">Screenshots</a>\n",
       " </li>\n",
       " <li>\n",
       " <a href=\"/test-sites\">Test Sites</a>\n",
       " </li>\n",
       " <li>\n",
       " <a href=\"https://forum.webscraper.io/\" rel=\"noopener\" target=\"_blank\">Forum</a>\n",
       " </li>\n",
       " <li>\n",
       " <a href=\"https://status.webscraper.io/\" rel=\"noopener\" target=\"_blank\">Status</a>\n",
       " </li>\n",
       " </ul>\n",
       " </div>\n",
       " <div class=\"col-md-3\">\n",
       " <ul>\n",
       " <li><p>CONTACT US</p></li>\n",
       " <li>\n",
       " <a href=\"mailto:info@webscraper.io\">info@webscraper.io</a>\n",
       " </li>\n",
       " <li>Ubelu 5-71,<br/> Adazi, Latvia, LV-2164</li>\n",
       " </ul>\n",
       " <ul class=\"smedia\">\n",
       " <li>\n",
       " <a href=\"https://www.facebook.com/webscraperio/\" rel=\"noopener\" target=\"_blank\">\n",
       " <i class=\"ws-icon ws-icon-facebook-f\"></i>\n",
       " </a>\n",
       " </li>\n",
       " <li>\n",
       " <a href=\"https://twitter.com/webscraperio\" rel=\"noopener\" target=\"_blank\">\n",
       " <i class=\"ws-icon ws-icon-twitter\"></i>\n",
       " </a>\n",
       " </li>\n",
       " </ul>\n",
       " </div>\n",
       " </div>\n",
       " <div class=\"row\">\n",
       " <div class=\"col-md-12\">\n",
       " <p class=\"copyright\">Copyright &amp;copy 2023\n",
       " \t\t\t\t\t<a href=\"#\">Web Scraper</a> | All rights\n",
       " \t\t\t\t\treserved</p>\n",
       " </div>\n",
       " </div>\n",
       " </div>\n",
       " </div>]"
      ]
     },
     "execution_count": 23,
     "metadata": {},
     "output_type": "execute_result"
    }
   ],
   "source": [
    "soup.find_all(id = True)"
   ]
  },
  {
   "cell_type": "markdown",
   "metadata": {},
   "source": [
    "- Searching for a specific string "
   ]
  },
  {
   "cell_type": "code",
   "execution_count": 24,
   "metadata": {},
   "outputs": [
    {
     "data": {
      "text/plain": [
       "['Iphone', 'Iphone', 'Iphone']"
      ]
     },
     "execution_count": 24,
     "metadata": {},
     "output_type": "execute_result"
    }
   ],
   "source": [
    "soup.find_all(string= 'Iphone')"
   ]
  },
  {
   "cell_type": "code",
   "execution_count": 25,
   "metadata": {},
   "outputs": [
    {
     "data": {
      "text/plain": [
       "['Iphone', 'Iphone', 'Iphone']"
      ]
     },
     "execution_count": 25,
     "metadata": {},
     "output_type": "execute_result"
    }
   ],
   "source": [
    "soup.find_all(string=  re.compile('Iph'))"
   ]
  },
  {
   "cell_type": "code",
   "execution_count": 26,
   "metadata": {},
   "outputs": [
    {
     "data": {
      "text/plain": [
       "['Nokia 123', 'Nokia X']"
      ]
     },
     "execution_count": 26,
     "metadata": {},
     "output_type": "execute_result"
    }
   ],
   "source": [
    "soup.find_all(string=  re.compile('Nok'))"
   ]
  },
  {
   "cell_type": "code",
   "execution_count": 27,
   "metadata": {},
   "outputs": [
    {
     "data": {
      "text/plain": [
       "[<button aria-controls=\"navbar\" aria-expanded=\"false\" class=\"navbar-toggle pull-right collapsed\" data-target=\"#navbar\" data-target-2=\".side-collapse-container\" data-target-3=\".side-collapse\" data-toggle=\"collapse\" type=\"button\">\n",
       " <span class=\"sr-only\">Toggle navigation</span>\n",
       " <span class=\"icon-bar top-bar\"></span>\n",
       " <span class=\"icon-bar middle-bar\"></span>\n",
       " <span class=\"icon-bar bottom-bar\"></span>\n",
       " </button>,\n",
       " <h4 class=\"pull-right price\">$24.99</h4>,\n",
       " <p class=\"pull-right\">11 reviews</p>,\n",
       " <h4 class=\"pull-right price\">$57.99</h4>,\n",
       " <p class=\"pull-right\">11 reviews</p>,\n",
       " <h4 class=\"pull-right price\">$93.99</h4>,\n",
       " <p class=\"pull-right\">3 reviews</p>,\n",
       " <h4 class=\"pull-right price\">$109.99</h4>,\n",
       " <p class=\"pull-right\">4 reviews</p>,\n",
       " <h4 class=\"pull-right price\">$118.99</h4>,\n",
       " <p class=\"pull-right\">6 reviews</p>,\n",
       " <h4 class=\"pull-right price\">$499.99</h4>,\n",
       " <p class=\"pull-right\">2 reviews</p>,\n",
       " <h4 class=\"pull-right price\">$899.99</h4>,\n",
       " <p class=\"pull-right\">10 reviews</p>,\n",
       " <h4 class=\"pull-right price\">$899.99</h4>,\n",
       " <p class=\"pull-right\">8 reviews</p>,\n",
       " <h4 class=\"pull-right price\">$899.99</h4>,\n",
       " <p class=\"pull-right\">1 reviews</p>]"
      ]
     },
     "execution_count": 27,
     "metadata": {},
     "output_type": "execute_result"
    }
   ],
   "source": [
    "soup.find_all(class_ = re.compile('pull'))"
   ]
  },
  {
   "cell_type": "markdown",
   "metadata": {},
   "source": [
    "- further filtering "
   ]
  },
  {
   "cell_type": "code",
   "execution_count": 28,
   "metadata": {},
   "outputs": [
    {
     "data": {
      "text/plain": [
       "[<p class=\"pull-right\">11 reviews</p>,\n",
       " <p class=\"pull-right\">11 reviews</p>,\n",
       " <p class=\"pull-right\">3 reviews</p>,\n",
       " <p class=\"pull-right\">4 reviews</p>,\n",
       " <p class=\"pull-right\">6 reviews</p>,\n",
       " <p class=\"pull-right\">2 reviews</p>,\n",
       " <p class=\"pull-right\">10 reviews</p>,\n",
       " <p class=\"pull-right\">8 reviews</p>,\n",
       " <p class=\"pull-right\">1 reviews</p>]"
      ]
     },
     "execution_count": 28,
     "metadata": {},
     "output_type": "execute_result"
    }
   ],
   "source": [
    "soup.find_all('p', class_ = re.compile('pull'))"
   ]
  },
  {
   "cell_type": "markdown",
   "metadata": {},
   "source": [
    "- If you want a certain number of outputs "
   ]
  },
  {
   "cell_type": "code",
   "execution_count": 29,
   "metadata": {},
   "outputs": [
    {
     "data": {
      "text/plain": [
       "[<p class=\"pull-right\">11 reviews</p>,\n",
       " <p class=\"pull-right\">11 reviews</p>,\n",
       " <p class=\"pull-right\">3 reviews</p>]"
      ]
     },
     "execution_count": 29,
     "metadata": {},
     "output_type": "execute_result"
    }
   ],
   "source": [
    "\n",
    "soup.find_all('p', class_ = re.compile('pull'), limit = 3)"
   ]
  },
  {
   "cell_type": "code",
   "execution_count": 30,
   "metadata": {},
   "outputs": [
    {
     "data": {
      "text/plain": [
       "['Iphone', 'Iphone', 'Iphone']"
      ]
     },
     "execution_count": 30,
     "metadata": {},
     "output_type": "execute_result"
    }
   ],
   "source": [
    "soup.find_all(string = ['Iphone', 'Nokia'])"
   ]
  },
  {
   "cell_type": "markdown",
   "metadata": {},
   "source": [
    "### Putting all the product details in a dataframe "
   ]
  },
  {
   "cell_type": "markdown",
   "metadata": {},
   "source": [
    "#### Product Names"
   ]
  },
  {
   "cell_type": "code",
   "execution_count": 31,
   "metadata": {},
   "outputs": [
    {
     "data": {
      "text/plain": [
       "[<a class=\"title\" href=\"/test-sites/e-commerce/allinone/product/486\" title=\"Nokia 123\">Nokia 123</a>,\n",
       " <a class=\"title\" href=\"/test-sites/e-commerce/allinone/product/487\" title=\"LG Optimus\">LG Optimus</a>,\n",
       " <a class=\"title\" href=\"/test-sites/e-commerce/allinone/product/488\" title=\"Samsung Galaxy\">Samsung Galaxy</a>,\n",
       " <a class=\"title\" href=\"/test-sites/e-commerce/allinone/product/489\" title=\"Nokia X\">Nokia X</a>,\n",
       " <a class=\"title\" href=\"/test-sites/e-commerce/allinone/product/490\" title=\"Sony Xperia\">Sony Xperia</a>,\n",
       " <a class=\"title\" href=\"/test-sites/e-commerce/allinone/product/491\" title=\"Ubuntu Edge\">Ubuntu Edge</a>,\n",
       " <a class=\"title\" href=\"/test-sites/e-commerce/allinone/product/492\" title=\"Iphone\">Iphone</a>,\n",
       " <a class=\"title\" href=\"/test-sites/e-commerce/allinone/product/493\" title=\"Iphone\">Iphone</a>,\n",
       " <a class=\"title\" href=\"/test-sites/e-commerce/allinone/product/494\" title=\"Iphone\">Iphone</a>]"
      ]
     },
     "execution_count": 31,
     "metadata": {},
     "output_type": "execute_result"
    }
   ],
   "source": [
    "product_name = soup.find_all('a', class_ = 'title')\n",
    "product_name"
   ]
  },
  {
   "cell_type": "markdown",
   "metadata": {},
   "source": [
    "#### Price"
   ]
  },
  {
   "cell_type": "code",
   "execution_count": 32,
   "metadata": {},
   "outputs": [
    {
     "data": {
      "text/plain": [
       "[<h4 class=\"pull-right price\">$24.99</h4>,\n",
       " <h4 class=\"pull-right price\">$57.99</h4>,\n",
       " <h4 class=\"pull-right price\">$93.99</h4>,\n",
       " <h4 class=\"pull-right price\">$109.99</h4>,\n",
       " <h4 class=\"pull-right price\">$118.99</h4>,\n",
       " <h4 class=\"pull-right price\">$499.99</h4>,\n",
       " <h4 class=\"pull-right price\">$899.99</h4>,\n",
       " <h4 class=\"pull-right price\">$899.99</h4>,\n",
       " <h4 class=\"pull-right price\">$899.99</h4>]"
      ]
     },
     "execution_count": 32,
     "metadata": {},
     "output_type": "execute_result"
    }
   ],
   "source": [
    "price = soup.find_all('h4', class_ = 'pull-right price')\n",
    "price "
   ]
  },
  {
   "cell_type": "markdown",
   "metadata": {},
   "source": [
    "#### Reviews"
   ]
  },
  {
   "cell_type": "code",
   "execution_count": 33,
   "metadata": {},
   "outputs": [
    {
     "data": {
      "text/plain": [
       "[<p class=\"pull-right\">11 reviews</p>,\n",
       " <p class=\"pull-right\">11 reviews</p>,\n",
       " <p class=\"pull-right\">3 reviews</p>,\n",
       " <p class=\"pull-right\">4 reviews</p>,\n",
       " <p class=\"pull-right\">6 reviews</p>,\n",
       " <p class=\"pull-right\">2 reviews</p>,\n",
       " <p class=\"pull-right\">10 reviews</p>,\n",
       " <p class=\"pull-right\">8 reviews</p>,\n",
       " <p class=\"pull-right\">1 reviews</p>]"
      ]
     },
     "execution_count": 33,
     "metadata": {},
     "output_type": "execute_result"
    }
   ],
   "source": [
    "review = soup.find_all('p', class_ = 'pull-right')\n",
    "review"
   ]
  },
  {
   "cell_type": "markdown",
   "metadata": {},
   "source": [
    "#### Description"
   ]
  },
  {
   "cell_type": "code",
   "execution_count": 34,
   "metadata": {},
   "outputs": [
    {
     "data": {
      "text/plain": [
       "[<p class=\"description\">7 day battery</p>,\n",
       " <p class=\"description\">3.2\" screen</p>,\n",
       " <p class=\"description\">5 mpx. Android 5.0</p>,\n",
       " <p class=\"description\">Andoid, Jolla dualboot</p>,\n",
       " <p class=\"description\">GPS, waterproof</p>,\n",
       " <p class=\"description\">Sapphire glass</p>,\n",
       " <p class=\"description\">White</p>,\n",
       " <p class=\"description\">Silver</p>,\n",
       " <p class=\"description\">Black</p>]"
      ]
     },
     "execution_count": 34,
     "metadata": {},
     "output_type": "execute_result"
    }
   ],
   "source": [
    "description = soup.find_all('p', class_ = 'description')\n",
    "description"
   ]
  },
  {
   "cell_type": "code",
   "execution_count": 37,
   "metadata": {},
   "outputs": [
    {
     "data": {
      "text/plain": [
       "'$24.99'"
      ]
     },
     "execution_count": 37,
     "metadata": {},
     "output_type": "execute_result"
    }
   ],
   "source": [
    "soup.find('h4', {'class': 'pull-right price'}).text "
   ]
  },
  {
   "cell_type": "markdown",
   "metadata": {},
   "source": [
    "### Only grabbing the required strings "
   ]
  },
  {
   "cell_type": "markdown",
   "metadata": {},
   "source": [
    "#### Product Names "
   ]
  },
  {
   "cell_type": "code",
   "execution_count": 39,
   "metadata": {},
   "outputs": [
    {
     "data": {
      "text/plain": [
       "['Nokia 123',\n",
       " 'LG Optimus',\n",
       " 'Samsung Galaxy',\n",
       " 'Nokia X',\n",
       " 'Sony Xperia',\n",
       " 'Ubuntu Edge',\n",
       " 'Iphone',\n",
       " 'Iphone',\n",
       " 'Iphone']"
      ]
     },
     "execution_count": 39,
     "metadata": {},
     "output_type": "execute_result"
    }
   ],
   "source": [
    "product_name_list = []\n",
    "for i in product_name:\n",
    "    name = i.text \n",
    "    product_name_list.append(name)\n",
    "product_name_list\n"
   ]
  },
  {
   "cell_type": "markdown",
   "metadata": {},
   "source": [
    "#### Price "
   ]
  },
  {
   "cell_type": "code",
   "execution_count": 40,
   "metadata": {},
   "outputs": [
    {
     "data": {
      "text/plain": [
       "['$24.99',\n",
       " '$57.99',\n",
       " '$93.99',\n",
       " '$109.99',\n",
       " '$118.99',\n",
       " '$499.99',\n",
       " '$899.99',\n",
       " '$899.99',\n",
       " '$899.99']"
      ]
     },
     "execution_count": 40,
     "metadata": {},
     "output_type": "execute_result"
    }
   ],
   "source": [
    "price_list = []\n",
    "for i in price:\n",
    "    name = i.text \n",
    "    price_list.append(name)\n",
    "price_list\n"
   ]
  },
  {
   "cell_type": "markdown",
   "metadata": {},
   "source": [
    "#### Description"
   ]
  },
  {
   "cell_type": "code",
   "execution_count": 41,
   "metadata": {},
   "outputs": [
    {
     "data": {
      "text/plain": [
       "['7 day battery',\n",
       " '3.2\" screen',\n",
       " '5 mpx. Android 5.0',\n",
       " 'Andoid, Jolla dualboot',\n",
       " 'GPS, waterproof',\n",
       " 'Sapphire glass',\n",
       " 'White',\n",
       " 'Silver',\n",
       " 'Black']"
      ]
     },
     "execution_count": 41,
     "metadata": {},
     "output_type": "execute_result"
    }
   ],
   "source": [
    "description_list = []\n",
    "for i in description:\n",
    "    name = i.text \n",
    "    description_list.append(name)\n",
    "description_list\n"
   ]
  },
  {
   "cell_type": "markdown",
   "metadata": {},
   "source": [
    "#### Reviews "
   ]
  },
  {
   "cell_type": "code",
   "execution_count": 42,
   "metadata": {},
   "outputs": [
    {
     "data": {
      "text/plain": [
       "['11 reviews',\n",
       " '11 reviews',\n",
       " '3 reviews',\n",
       " '4 reviews',\n",
       " '6 reviews',\n",
       " '2 reviews',\n",
       " '10 reviews',\n",
       " '8 reviews',\n",
       " '1 reviews']"
      ]
     },
     "execution_count": 42,
     "metadata": {},
     "output_type": "execute_result"
    }
   ],
   "source": [
    "review_list = []\n",
    "for i in review:\n",
    "    name = i.text \n",
    "    review_list.append(name)\n",
    "review_list\n"
   ]
  },
  {
   "cell_type": "code",
   "execution_count": 50,
   "metadata": {},
   "outputs": [
    {
     "data": {
      "text/html": [
       "<div>\n",
       "<style scoped>\n",
       "    .dataframe tbody tr th:only-of-type {\n",
       "        vertical-align: middle;\n",
       "    }\n",
       "\n",
       "    .dataframe tbody tr th {\n",
       "        vertical-align: top;\n",
       "    }\n",
       "\n",
       "    .dataframe thead th {\n",
       "        text-align: right;\n",
       "    }\n",
       "</style>\n",
       "<table border=\"1\" class=\"dataframe\">\n",
       "  <thead>\n",
       "    <tr style=\"text-align: right;\">\n",
       "      <th></th>\n",
       "      <th>Product Name</th>\n",
       "      <th>Description</th>\n",
       "      <th>Price</th>\n",
       "      <th>Review</th>\n",
       "    </tr>\n",
       "  </thead>\n",
       "  <tbody>\n",
       "    <tr>\n",
       "      <th>0</th>\n",
       "      <td>Nokia 123</td>\n",
       "      <td>7 day battery</td>\n",
       "      <td>$24.99</td>\n",
       "      <td>11 reviews</td>\n",
       "    </tr>\n",
       "    <tr>\n",
       "      <th>1</th>\n",
       "      <td>LG Optimus</td>\n",
       "      <td>3.2\" screen</td>\n",
       "      <td>$57.99</td>\n",
       "      <td>11 reviews</td>\n",
       "    </tr>\n",
       "    <tr>\n",
       "      <th>2</th>\n",
       "      <td>Samsung Galaxy</td>\n",
       "      <td>5 mpx. Android 5.0</td>\n",
       "      <td>$93.99</td>\n",
       "      <td>3 reviews</td>\n",
       "    </tr>\n",
       "    <tr>\n",
       "      <th>3</th>\n",
       "      <td>Nokia X</td>\n",
       "      <td>Andoid, Jolla dualboot</td>\n",
       "      <td>$109.99</td>\n",
       "      <td>4 reviews</td>\n",
       "    </tr>\n",
       "    <tr>\n",
       "      <th>4</th>\n",
       "      <td>Sony Xperia</td>\n",
       "      <td>GPS, waterproof</td>\n",
       "      <td>$118.99</td>\n",
       "      <td>6 reviews</td>\n",
       "    </tr>\n",
       "    <tr>\n",
       "      <th>5</th>\n",
       "      <td>Ubuntu Edge</td>\n",
       "      <td>Sapphire glass</td>\n",
       "      <td>$499.99</td>\n",
       "      <td>2 reviews</td>\n",
       "    </tr>\n",
       "    <tr>\n",
       "      <th>6</th>\n",
       "      <td>Iphone</td>\n",
       "      <td>White</td>\n",
       "      <td>$899.99</td>\n",
       "      <td>10 reviews</td>\n",
       "    </tr>\n",
       "    <tr>\n",
       "      <th>7</th>\n",
       "      <td>Iphone</td>\n",
       "      <td>Silver</td>\n",
       "      <td>$899.99</td>\n",
       "      <td>8 reviews</td>\n",
       "    </tr>\n",
       "    <tr>\n",
       "      <th>8</th>\n",
       "      <td>Iphone</td>\n",
       "      <td>Black</td>\n",
       "      <td>$899.99</td>\n",
       "      <td>1 reviews</td>\n",
       "    </tr>\n",
       "  </tbody>\n",
       "</table>\n",
       "</div>"
      ],
      "text/plain": [
       "     Product Name             Description    Price      Review\n",
       "0       Nokia 123           7 day battery   $24.99  11 reviews\n",
       "1      LG Optimus             3.2\" screen   $57.99  11 reviews\n",
       "2  Samsung Galaxy      5 mpx. Android 5.0   $93.99   3 reviews\n",
       "3         Nokia X  Andoid, Jolla dualboot  $109.99   4 reviews\n",
       "4     Sony Xperia         GPS, waterproof  $118.99   6 reviews\n",
       "5     Ubuntu Edge          Sapphire glass  $499.99   2 reviews\n",
       "6          Iphone                   White  $899.99  10 reviews\n",
       "7          Iphone                  Silver  $899.99   8 reviews\n",
       "8          Iphone                   Black  $899.99   1 reviews"
      ]
     },
     "execution_count": 50,
     "metadata": {},
     "output_type": "execute_result"
    }
   ],
   "source": [
    "table = pd.DataFrame({'Product Name': product_name_list, 'Description': description_list, 'Price': price_list, 'Review': review_list})\n",
    "table "
   ]
  },
  {
   "cell_type": "markdown",
   "metadata": {},
   "source": [
    "### Extracting Data From Nested HTML Tags "
   ]
  },
  {
   "cell_type": "markdown",
   "metadata": {},
   "source": [
    "- Reduce the html i.e treat it like a list "
   ]
  },
  {
   "cell_type": "code",
   "execution_count": 60,
   "metadata": {},
   "outputs": [
    {
     "data": {
      "text/plain": [
       "<div class=\"col-sm-4 col-lg-4 col-md-4\">\n",
       "<div class=\"thumbnail\">\n",
       "<img alt=\"item\" class=\"img-responsive\" src=\"/images/test-sites/e-commerce/items/cart2.png\"/>\n",
       "<div class=\"caption\">\n",
       "<h4 class=\"pull-right price\">$899.99</h4>\n",
       "<h4>\n",
       "<a class=\"title\" href=\"/test-sites/e-commerce/allinone/product/492\" title=\"Iphone\">Iphone</a>\n",
       "</h4>\n",
       "<p class=\"description\">White</p>\n",
       "</div>\n",
       "<div class=\"ratings\">\n",
       "<p class=\"pull-right\">10 reviews</p>\n",
       "<p data-rating=\"1\">\n",
       "<span class=\"ws-icon ws-icon-star\"></span>\n",
       "</p>\n",
       "</div>\n",
       "</div>\n",
       "</div>"
      ]
     },
     "execution_count": 60,
     "metadata": {},
     "output_type": "execute_result"
    }
   ],
   "source": [
    "boxes = soup.find_all('div', class_ = 'col-sm-4 col-lg-4 col-md-4')[6]\n",
    "boxes "
   ]
  },
  {
   "cell_type": "code",
   "execution_count": 58,
   "metadata": {},
   "outputs": [
    {
     "data": {
      "text/plain": [
       "'Samsung Galaxy'"
      ]
     },
     "execution_count": 58,
     "metadata": {},
     "output_type": "execute_result"
    }
   ],
   "source": [
    "boxes.find('a').text"
   ]
  },
  {
   "cell_type": "code",
   "execution_count": 66,
   "metadata": {},
   "outputs": [
    {
     "data": {
      "text/plain": [
       "'\\n\\n\\t\\t\\t\\t\\tPhones\\n\\t\\t\\t\\t\\t\\n\\n\\n\\n\\n\\t\\t\\t\\t\\t\\t\\tTouch\\n\\t\\t\\t\\t\\t\\t\\n\\n\\n'"
      ]
     },
     "execution_count": 66,
     "metadata": {},
     "output_type": "execute_result"
    }
   ],
   "source": [
    "box2  = soup.find_all('ul', class_ = 'nav', id = 'side-menu')[0]\n",
    "box2.find_all('li')[1].text "
   ]
  },
  {
   "cell_type": "code",
   "execution_count": null,
   "metadata": {},
   "outputs": [],
   "source": []
  },
  {
   "cell_type": "code",
   "execution_count": null,
   "metadata": {},
   "outputs": [],
   "source": []
  },
  {
   "cell_type": "code",
   "execution_count": null,
   "metadata": {},
   "outputs": [],
   "source": []
  },
  {
   "cell_type": "code",
   "execution_count": null,
   "metadata": {},
   "outputs": [],
   "source": []
  },
  {
   "cell_type": "code",
   "execution_count": null,
   "metadata": {},
   "outputs": [],
   "source": []
  },
  {
   "cell_type": "code",
   "execution_count": null,
   "metadata": {},
   "outputs": [],
   "source": []
  },
  {
   "cell_type": "code",
   "execution_count": null,
   "metadata": {},
   "outputs": [],
   "source": []
  },
  {
   "cell_type": "code",
   "execution_count": null,
   "metadata": {},
   "outputs": [],
   "source": []
  },
  {
   "cell_type": "code",
   "execution_count": null,
   "metadata": {},
   "outputs": [],
   "source": []
  },
  {
   "cell_type": "code",
   "execution_count": null,
   "metadata": {},
   "outputs": [],
   "source": []
  },
  {
   "cell_type": "code",
   "execution_count": null,
   "metadata": {},
   "outputs": [],
   "source": []
  },
  {
   "cell_type": "code",
   "execution_count": null,
   "metadata": {},
   "outputs": [],
   "source": []
  },
  {
   "cell_type": "code",
   "execution_count": null,
   "metadata": {},
   "outputs": [],
   "source": []
  },
  {
   "cell_type": "code",
   "execution_count": null,
   "metadata": {},
   "outputs": [],
   "source": []
  },
  {
   "cell_type": "code",
   "execution_count": null,
   "metadata": {},
   "outputs": [],
   "source": []
  },
  {
   "cell_type": "code",
   "execution_count": null,
   "metadata": {},
   "outputs": [],
   "source": []
  },
  {
   "cell_type": "code",
   "execution_count": null,
   "metadata": {},
   "outputs": [],
   "source": []
  },
  {
   "cell_type": "code",
   "execution_count": null,
   "metadata": {},
   "outputs": [],
   "source": []
  },
  {
   "cell_type": "code",
   "execution_count": null,
   "metadata": {},
   "outputs": [],
   "source": []
  },
  {
   "cell_type": "code",
   "execution_count": null,
   "metadata": {},
   "outputs": [],
   "source": []
  },
  {
   "cell_type": "code",
   "execution_count": null,
   "metadata": {},
   "outputs": [],
   "source": []
  },
  {
   "cell_type": "code",
   "execution_count": null,
   "metadata": {},
   "outputs": [],
   "source": []
  },
  {
   "cell_type": "code",
   "execution_count": null,
   "metadata": {},
   "outputs": [],
   "source": []
  },
  {
   "cell_type": "code",
   "execution_count": null,
   "metadata": {},
   "outputs": [],
   "source": []
  },
  {
   "cell_type": "code",
   "execution_count": null,
   "metadata": {},
   "outputs": [],
   "source": []
  },
  {
   "cell_type": "code",
   "execution_count": null,
   "metadata": {},
   "outputs": [],
   "source": []
  },
  {
   "cell_type": "code",
   "execution_count": null,
   "metadata": {},
   "outputs": [],
   "source": []
  },
  {
   "cell_type": "code",
   "execution_count": null,
   "metadata": {},
   "outputs": [],
   "source": []
  }
 ],
 "metadata": {
  "interpreter": {
   "hash": "52d221baa195476de18ea2cd30156a54bc20fc2a78d5bf022d76e83bbf9ef627"
  },
  "kernelspec": {
   "display_name": "Python 3.10.9 ('base')",
   "language": "python",
   "name": "python3"
  },
  "language_info": {
   "codemirror_mode": {
    "name": "ipython",
    "version": 3
   },
   "file_extension": ".py",
   "mimetype": "text/x-python",
   "name": "python",
   "nbconvert_exporter": "python",
   "pygments_lexer": "ipython3",
   "version": "3.9.13"
  },
  "orig_nbformat": 4
 },
 "nbformat": 4,
 "nbformat_minor": 2
}
