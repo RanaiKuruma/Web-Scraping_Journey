{
 "cells": [
  {
   "cell_type": "code",
   "execution_count": 1,
   "metadata": {},
   "outputs": [],
   "source": [
    "import requests \n",
    "from bs4 import BeautifulSoup "
   ]
  },
  {
   "cell_type": "markdown",
   "id": "aa846ebf",
   "metadata": {},
   "source": [
    "### Getting the HTML\n"
   ]
  },
  {
   "cell_type": "markdown",
   "id": "937b784d",
   "metadata": {},
   "source": [
    "- Requesting whether I can scrape this website or not "
   ]
  },
  {
   "cell_type": "code",
   "execution_count": 4,
   "id": "ef0a1872",
   "metadata": {},
   "outputs": [
    {
     "data": {
      "text/plain": [
       "<Response [503]>"
      ]
     },
     "execution_count": 4,
     "metadata": {},
     "output_type": "execute_result"
    }
   ],
   "source": [
    "url  = \"https://www.amazon.de/-/en/Croch-Hexagon-Dumbbells-Strength-Training/dp/B08C566PB1/ref=sr_1_7?crid=292A64MDJWT13&keywords=dumbbells%2Bset%2B20kg&qid=1690188466&refinements=p_72%3A184747031%2Cp_36%3A389421011&rnid=389413011&s=sports&sprefix=Dumbells%2B%2Caps%2C255&sr=1-7&th=1 \"\n",
    "page = requests.get(url)\n",
    "page \n"
   ]
  },
  {
   "cell_type": "code",
   "execution_count": null,
   "id": "341fac7e",
   "metadata": {},
   "outputs": [],
   "source": []
  },
  {
   "cell_type": "code",
   "execution_count": null,
   "id": "60c22118",
   "metadata": {},
   "outputs": [],
   "source": []
  },
  {
   "cell_type": "code",
   "execution_count": null,
   "id": "f595f435",
   "metadata": {},
   "outputs": [],
   "source": []
  },
  {
   "cell_type": "code",
   "execution_count": null,
   "id": "24d4e5bb",
   "metadata": {},
   "outputs": [],
   "source": []
  },
  {
   "cell_type": "code",
   "execution_count": null,
   "id": "ad4c06d5",
   "metadata": {},
   "outputs": [],
   "source": []
  },
  {
   "cell_type": "code",
   "execution_count": null,
   "id": "608550b0",
   "metadata": {},
   "outputs": [],
   "source": []
  },
  {
   "cell_type": "code",
   "execution_count": null,
   "id": "e068f5da",
   "metadata": {},
   "outputs": [],
   "source": []
  }
 ],
 "metadata": {
  "interpreter": {
   "hash": "aee8b7b246df8f9039afb4144a1f6fd8d2ca17a180786b69acc140d282b71a49"
  },
  "kernelspec": {
   "display_name": "Python 3.11.4 64-bit",
   "language": "python",
   "name": "python3"
  },
  "language_info": {
   "codemirror_mode": {
    "name": "ipython",
    "version": 3
   },
   "file_extension": ".py",
   "mimetype": "text/x-python",
   "name": "python",
   "nbconvert_exporter": "python",
   "pygments_lexer": "ipython3",
   "version": "3.10.9"
  }
 },
 "nbformat": 4,
 "nbformat_minor": 5
}
